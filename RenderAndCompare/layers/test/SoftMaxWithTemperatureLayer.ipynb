{
 "cells": [
  {
   "cell_type": "code",
   "execution_count": 1,
   "metadata": {
    "collapsed": true
   },
   "outputs": [],
   "source": [
    "import _init_paths\n",
    "import caffe\n",
    "import numpy as np\n",
    "import os.path as osp"
   ]
  },
  {
   "cell_type": "code",
   "execution_count": 2,
   "metadata": {
    "collapsed": true
   },
   "outputs": [],
   "source": [
    "caffe.set_random_seed(13397)"
   ]
  },
  {
   "cell_type": "code",
   "execution_count": 3,
   "metadata": {
    "collapsed": false
   },
   "outputs": [
    {
     "name": "stdout",
     "output_type": "stream",
     "text": [
      "/home/abhijit/Workspace/RenderAndCompare\n"
     ]
    }
   ],
   "source": [
    "print osp.abspath(_init_paths.root_dir)"
   ]
  },
  {
   "cell_type": "code",
   "execution_count": 4,
   "metadata": {
    "collapsed": false
   },
   "outputs": [
    {
     "name": "stdout",
     "output_type": "stream",
     "text": [
      "---------- SoftMaxWithTemperature Layer Config ---------------\n",
      "Temperature = Fixed (1.0)\n",
      "bottom[0].shape =   (5, 3)\n",
      "top[0].shape =      (5, 3)\n",
      "--------------------------------------------------------------\n",
      "---------- SoftMaxWithTemperature Layer Config ---------------\n",
      "Temperature = bottom[1] with shape (5,)\n",
      "bottom[0].shape =   (5, 4)\n",
      "top[0].shape =      (5, 4)\n",
      "--------------------------------------------------------------\n"
     ]
    }
   ],
   "source": [
    "net = caffe.Net('SoftmaxWithTemperature.prototxt', caffe.TEST)"
   ]
  },
  {
   "cell_type": "code",
   "execution_count": 5,
   "metadata": {
    "collapsed": true
   },
   "outputs": [],
   "source": [
    "net.blobs['data'].data[...] = np.array([[0, 200, 10], [0, 10, 200], [200, 200, 200], [-1, 0, 1], [1, 1, 0]])\n",
    "net.blobs['temperature'].data[...] = np.array([1.0, 1.0, 100, 1e5, 1e14])"
   ]
  },
  {
   "cell_type": "code",
   "execution_count": 6,
   "metadata": {
    "collapsed": false
   },
   "outputs": [],
   "source": [
    "output = net.forward()\n"
   ]
  },
  {
   "cell_type": "code",
   "execution_count": 7,
   "metadata": {
    "collapsed": false
   },
   "outputs": [
    {
     "name": "stdout",
     "output_type": "stream",
     "text": [
      "[[ 0.          1.          0.        ]\n",
      " [ 0.          0.          1.        ]\n",
      " [ 0.33333334  0.33333334  0.33333334]\n",
      " [ 0.09003057  0.24472848  0.66524094]\n",
      " [ 0.42231882  0.42231882  0.15536241]]\n"
     ]
    }
   ],
   "source": [
    "print output['softmax_prob_fixedT']"
   ]
  },
  {
   "cell_type": "code",
   "execution_count": 8,
   "metadata": {
    "collapsed": false
   },
   "outputs": [
    {
     "name": "stdout",
     "output_type": "stream",
     "text": [
      "[[ 0.02033097  0.33155349  0.19676925  0.45134637]\n",
      " [ 0.00891814  0.01068074  0.91332608  0.06707503]\n",
      " [ 0.24704896  0.24647622  0.25414819  0.25232661]\n",
      " [ 0.24999996  0.25        0.25000006  0.25000003]\n",
      " [ 0.25        0.25        0.25        0.25      ]]\n"
     ]
    }
   ],
   "source": [
    "print output['softmax_prob2']"
   ]
  }
 ],
 "metadata": {
  "kernelspec": {
   "display_name": "Python 2",
   "language": "python",
   "name": "python2"
  },
  "language_info": {
   "codemirror_mode": {
    "name": "ipython",
    "version": 2
   },
   "file_extension": ".py",
   "mimetype": "text/x-python",
   "name": "python",
   "nbconvert_exporter": "python",
   "pygments_lexer": "ipython2",
   "version": "2.7.12"
  }
 },
 "nbformat": 4,
 "nbformat_minor": 2
}
