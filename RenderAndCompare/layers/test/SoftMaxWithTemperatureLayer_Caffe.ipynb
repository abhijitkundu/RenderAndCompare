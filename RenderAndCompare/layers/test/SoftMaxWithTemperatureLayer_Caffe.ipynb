{
 "cells": [
  {
   "cell_type": "code",
   "execution_count": 1,
   "metadata": {
    "collapsed": true
   },
   "outputs": [],
   "source": [
    "import _init_paths\n",
    "import caffe\n",
    "import numpy as np\n",
    "import os.path as osp"
   ]
  },
  {
   "cell_type": "code",
   "execution_count": 2,
   "metadata": {
    "collapsed": true
   },
   "outputs": [],
   "source": [
    "caffe.set_random_seed(13397)"
   ]
  },
  {
   "cell_type": "code",
   "execution_count": 3,
   "metadata": {
    "collapsed": false
   },
   "outputs": [
    {
     "name": "stdout",
     "output_type": "stream",
     "text": [
      "/home/abhijit/Workspace/RenderAndCompare\n"
     ]
    }
   ],
   "source": [
    "print osp.abspath(_init_paths.root_dir)"
   ]
  },
  {
   "cell_type": "code",
   "execution_count": 4,
   "metadata": {
    "collapsed": true
   },
   "outputs": [],
   "source": [
    "net = caffe.Net('SoftmaxWithTemperature_Caffe.prototxt', caffe.TEST)"
   ]
  },
  {
   "cell_type": "code",
   "execution_count": 5,
   "metadata": {
    "collapsed": true
   },
   "outputs": [],
   "source": [
    "net.blobs['data'].data[...] = np.array([[0, 200, 10], [0, 10, 200], [200, 200, 200], [-1, 0, 1], [1, 1, 0]])\n",
    "net.blobs['T'].data[...] = np.array([4.0, 1.0, 0.5, 0.1, 0.01])"
   ]
  },
  {
   "cell_type": "code",
   "execution_count": 6,
   "metadata": {
    "collapsed": true
   },
   "outputs": [],
   "source": [
    "output = net.forward()"
   ]
  },
  {
   "cell_type": "code",
   "execution_count": 7,
   "metadata": {
    "collapsed": false
   },
   "outputs": [
    {
     "name": "stdout",
     "output_type": "stream",
     "text": [
      "[[ 0.          1.          0.        ]\n",
      " [ 0.          0.          1.        ]\n",
      " [ 0.33333334  0.33333334  0.33333334]\n",
      " [ 0.          0.          1.        ]\n",
      " [ 0.5         0.5         0.        ]]\n"
     ]
    }
   ],
   "source": [
    "print output['softmax_prob_fixedT']"
   ]
  },
  {
   "cell_type": "code",
   "execution_count": 8,
   "metadata": {
    "collapsed": false
   },
   "outputs": [
    {
     "name": "stdout",
     "output_type": "stream",
     "text": [
      "[[ 0.14400937  0.28939405  0.25400397  0.3125926 ]\n",
      " [ 0.00891814  0.01068074  0.91332608  0.06707503]\n",
      " [ 0.00278466  0.00175055  0.8045789   0.19088584]\n",
      " [ 0.20243488  0.2364154   0.30601174  0.25513792]\n",
      " [ 0.29135174  0.25418067  0.12491894  0.32954866]]\n"
     ]
    }
   ],
   "source": [
    "print output['softmax_prob2']"
   ]
  },
  {
   "cell_type": "code",
   "execution_count": 9,
   "metadata": {
    "collapsed": false
   },
   "outputs": [
    {
     "data": {
      "text/plain": [
       "array([ 1.        ,  1.        ,  0.99999994,  0.99999994,  1.        ], dtype=float32)"
      ]
     },
     "execution_count": 9,
     "metadata": {},
     "output_type": "execute_result"
    }
   ],
   "source": [
    "output['softmax_prob2'].sum(axis=1)"
   ]
  },
  {
   "cell_type": "code",
   "execution_count": 10,
   "metadata": {
    "collapsed": false
   },
   "outputs": [
    {
     "data": {
      "text/plain": [
       "array([ 1.,  1.,  1.,  1.,  1.], dtype=float32)"
      ]
     },
     "execution_count": 10,
     "metadata": {},
     "output_type": "execute_result"
    }
   ],
   "source": [
    "output['softmax_prob_fixedT'].sum(axis=1)"
   ]
  },
  {
   "cell_type": "code",
   "execution_count": 18,
   "metadata": {
    "collapsed": false
   },
   "outputs": [],
   "source": [
    "fc1_by_T = net.blobs['fc1'].data / net.blobs['T'].data.reshape(-1,1)\n",
    "assert np.allclose(fc1_by_T, net.blobs['fc1_by_T'].data)"
   ]
  },
  {
   "cell_type": "code",
   "execution_count": 21,
   "metadata": {
    "collapsed": false
   },
   "outputs": [
    {
     "data": {
      "text/plain": [
       "array([[  5.04695326e-02,   7.48380423e-01,   6.17941082e-01,\n",
       "          8.25491905e-01],\n",
       "       [ -3.93103063e-02,   1.41044021e-01,   4.58969545e+00,\n",
       "          1.97841430e+00],\n",
       "       [  6.00380421e+00,   5.53960991e+00,   1.16699963e+01,\n",
       "          1.02313528e+01],\n",
       "       [ -1.44830182e-01,   1.03421025e-02,   2.68375099e-01,\n",
       "          8.65559652e-02],\n",
       "       [  1.52571511e+00,   1.38922930e+00,   6.78848922e-01,\n",
       "          1.64890790e+00]], dtype=float32)"
      ]
     },
     "execution_count": 21,
     "metadata": {},
     "output_type": "execute_result"
    }
   ],
   "source": [
    "net.blobs['fc1_by_T'].data"
   ]
  },
  {
   "cell_type": "code",
   "execution_count": 22,
   "metadata": {
    "collapsed": true
   },
   "outputs": [],
   "source": [
    "def softmax(x, t=1.0):\n",
    "    if x.ndim == 1:\n",
    "        x = x.reshape((1, -1))\n",
    "    assert x.ndim == 2\n",
    "    max_x = np.max(x, axis=1).reshape((-1, 1))\n",
    "    exp_x = np.exp((x - max_x) / t)\n",
    "    out = exp_x / np.sum(exp_x, axis=1).reshape((-1, 1))\n",
    "    return out"
   ]
  },
  {
   "cell_type": "code",
   "execution_count": 25,
   "metadata": {
    "collapsed": false
   },
   "outputs": [
    {
     "data": {
      "text/plain": [
       "array([ 1.        ,  1.        ,  0.99999994,  0.99999994,  1.        ], dtype=float32)"
      ]
     },
     "execution_count": 25,
     "metadata": {},
     "output_type": "execute_result"
    }
   ],
   "source": [
    "softmax(net.blobs['fc1_by_T'].data).sum(axis=1)"
   ]
  },
  {
   "cell_type": "code",
   "execution_count": 24,
   "metadata": {
    "collapsed": false
   },
   "outputs": [
    {
     "data": {
      "text/plain": [
       "array([ 1.,  1.,  1.,  1.,  1.], dtype=float32)"
      ]
     },
     "execution_count": 24,
     "metadata": {},
     "output_type": "execute_result"
    }
   ],
   "source": [
    "output['softmax_prob_fixedT'].sum(axis=1)"
   ]
  },
  {
   "cell_type": "code",
   "execution_count": null,
   "metadata": {
    "collapsed": true
   },
   "outputs": [],
   "source": []
  }
 ],
 "metadata": {
  "kernelspec": {
   "display_name": "Python 2",
   "language": "python",
   "name": "python2"
  },
  "language_info": {
   "codemirror_mode": {
    "name": "ipython",
    "version": 2
   },
   "file_extension": ".py",
   "mimetype": "text/x-python",
   "name": "python",
   "nbconvert_exporter": "python",
   "pygments_lexer": "ipython2",
   "version": "2.7.12"
  }
 },
 "nbformat": 4,
 "nbformat_minor": 2
}
