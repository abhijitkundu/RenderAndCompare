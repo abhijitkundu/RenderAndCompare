{
 "cells": [
  {
   "cell_type": "code",
   "execution_count": 1,
   "metadata": {
    "collapsed": false
   },
   "outputs": [],
   "source": [
    "%matplotlib inline\n",
    "\n",
    "import _init_paths\n",
    "from RenderAndCompare.geometry import BoundingBox, bbx_iou_overlap\n",
    "import numpy as np\n",
    "import cv2\n",
    "import matplotlib.pyplot as plt"
   ]
  },
  {
   "cell_type": "code",
   "execution_count": 2,
   "metadata": {
    "collapsed": false
   },
   "outputs": [
    {
     "data": {
      "text/plain": [
       "BoundingBox(min=[ 100.  130.], max=[ 400.  480.], size=[ 300.  350.])"
      ]
     },
     "execution_count": 2,
     "metadata": {},
     "output_type": "execute_result"
    }
   ],
   "source": [
    "bbx = BoundingBox([100, 130], [400, 480])\n",
    "bbx"
   ]
  },
  {
   "cell_type": "code",
   "execution_count": 3,
   "metadata": {
    "collapsed": false
   },
   "outputs": [
    {
     "data": {
      "text/plain": [
       "BoundingBox(min=[ 100.  130.], max=[ 500.  610.], size=[ 400.  480.])"
      ]
     },
     "execution_count": 3,
     "metadata": {},
     "output_type": "execute_result"
    }
   ],
   "source": [
    "BoundingBox.fromRect(bbx.array())"
   ]
  },
  {
   "cell_type": "code",
   "execution_count": 4,
   "metadata": {
    "collapsed": false
   },
   "outputs": [
    {
     "data": {
      "text/plain": [
       "BoundingBox(min=[ 100.  130.], max=[ 400.  480.], size=[ 300.  350.])"
      ]
     },
     "execution_count": 4,
     "metadata": {},
     "output_type": "execute_result"
    }
   ],
   "source": [
    "BoundingBox.fromArray(bbx.array())"
   ]
  },
  {
   "cell_type": "code",
   "execution_count": 5,
   "metadata": {
    "collapsed": false
   },
   "outputs": [
    {
     "name": "stdout",
     "output_type": "stream",
     "text": [
      "bbxA = BoundingBox(min=[ 200.  300.], max=[ 700.  600.], size=[ 500.  300.])\n",
      "bbxB = BoundingBox(min=[ 800.  300.], max=[ 900.  600.], size=[ 100.  300.])\n"
     ]
    }
   ],
   "source": [
    "bbxA = BoundingBox([200, 300], [700, 600])\n",
    "bbxB = BoundingBox([800, 300], [900, 600])\n",
    "print \"bbxA = {}\".format(bbxA)\n",
    "print \"bbxB = {}\".format(bbxB)"
   ]
  },
  {
   "cell_type": "code",
   "execution_count": 6,
   "metadata": {
    "collapsed": false
   },
   "outputs": [
    {
     "data": {
      "text/plain": [
       "0"
      ]
     },
     "execution_count": 6,
     "metadata": {},
     "output_type": "execute_result"
    }
   ],
   "source": [
    "bbx_iou_overlap(bbxA.array(), bbxB.array())"
   ]
  },
  {
   "cell_type": "code",
   "execution_count": 7,
   "metadata": {
    "collapsed": false
   },
   "outputs": [
    {
     "name": "stdout",
     "output_type": "stream",
     "text": [
      "wh = [ 250.  150.]\n"
     ]
    }
   ],
   "source": [
    "bbx = bbxA.array()\n",
    "min_jittter_iou = 0.5\n",
    "assert bbx.size % 2 == 0\n",
    "ndim = bbx.size / 2\n",
    "wh = (np.asarray(bbx[ndim:]) - np.asarray(bbx[:ndim])) * (1.0 - min_jittter_iou)\n",
    "print \"wh =\", wh"
   ]
  },
  {
   "cell_type": "code",
   "execution_count": 8,
   "metadata": {
    "collapsed": false
   },
   "outputs": [
    {
     "data": {
      "text/plain": [
       "array([[ 0.11497375,  0.2467789 ],\n",
       "       [-0.34562623, -0.39623555]])"
      ]
     },
     "execution_count": 8,
     "metadata": {},
     "output_type": "execute_result"
    }
   ],
   "source": [
    "r = np.random.uniform(-1.0, 1.0, (2, ndim))\n",
    "r"
   ]
  },
  {
   "cell_type": "code",
   "execution_count": 9,
   "metadata": {
    "collapsed": false
   },
   "outputs": [
    {
     "data": {
      "text/plain": [
       "array([[  45.98949815,   24.67789007],\n",
       "       [-138.25049073,  -39.62355456]])"
      ]
     },
     "execution_count": 9,
     "metadata": {},
     "output_type": "execute_result"
    }
   ],
   "source": [
    "(r * np.array([400, 100]))"
   ]
  },
  {
   "cell_type": "code",
   "execution_count": 10,
   "metadata": {
    "collapsed": false
   },
   "outputs": [
    {
     "data": {
      "text/plain": [
       "array([  45.98949815,   24.67789007, -138.25049073,  -39.62355456])"
      ]
     },
     "execution_count": 10,
     "metadata": {},
     "output_type": "execute_result"
    }
   ],
   "source": [
    "(r * np.array([400, 100])).reshape(2*ndim, )"
   ]
  },
  {
   "cell_type": "code",
   "execution_count": 11,
   "metadata": {
    "collapsed": true
   },
   "outputs": [],
   "source": [
    "# def create_jittered_bbx(bbx, min_jittter_iou):\n",
    "#     \"\"\"returns a jittered bbx which has overlap > min_jittter_iou with input bbx\"\"\"\n",
    "#     assert 0 < min_jittter_iou <= 1.0\n",
    "#     assert bbx.size % 2 == 0\n",
    "#     ndim = bbx.size / 2\n",
    "#     wh = (np.asarray(bbx[ndim:]) - np.asarray(bbx[:ndim])) * (1.0 - min_jittter_iou)\n",
    "#     assert np.all(wh >= 0)\n",
    "#     while True:\n",
    "# #         jitter = (np.random.uniform(-1.0, 1.0, (2, ndim)) * wh).reshape(2*ndim, )\n",
    "#         jitter = (np.random.normal(0.0, 0.25, (2, ndim)) * wh).reshape(2*ndim, )\n",
    "#         jittered_bbx = bbx + jitter\n",
    "#         if bbx_iou_overlap(bbx, jittered_bbx) >= min_jittter_iou:\n",
    "#             return jittered_bbx"
   ]
  },
  {
   "cell_type": "code",
   "execution_count": 23,
   "metadata": {
    "collapsed": false
   },
   "outputs": [],
   "source": [
    "def create_jittered_bbx(bbx, min_jittter_iou):\n",
    "    \"\"\"returns a jittered bbx which has overlap > min_jittter_iou with input bbx\"\"\"\n",
    "    assert 0 < min_jittter_iou <= 1.0\n",
    "    assert bbx.size % 2 == 0\n",
    "    ndim = bbx.size / 2\n",
    "    wh = (np.asarray(bbx[ndim:]) - np.asarray(bbx[:ndim]))\n",
    "    assert np.all(wh >= 0)\n",
    "    bbx_center = (np.asarray(bbx[ndim:]) + np.asarray(bbx[:ndim])) / 2\n",
    "    while True:\n",
    "#         jitter = (np.random.uniform(-1.0, 1.0, (2, ndim)) * wh).reshape(2*ndim, )\n",
    "        bbx_center_actual = bbx_center + np.random.uniform(-1.0, 1.0, ndim) * wh\n",
    "        wh_actual = wh * np.random.uniform(min_jittter_iou, 2 - min_jittter_iou)\n",
    "        jittered_bbx = np.concatenate((bbx_center_actual - wh_actual/2, bbx_center_actual + wh_actual/2))\n",
    "        if bbx_iou_overlap(bbx, jittered_bbx) >= min_jittter_iou:\n",
    "            return jittered_bbx"
   ]
  },
  {
   "cell_type": "code",
   "execution_count": 24,
   "metadata": {
    "collapsed": false
   },
   "outputs": [
    {
     "name": "stdout",
     "output_type": "stream",
     "text": [
      "jittered_bbx = [ 267.85840644  358.73873281  668.5098805   599.12961725]\n"
     ]
    },
    {
     "data": {
      "text/plain": [
       "<matplotlib.image.AxesImage at 0x7f83c3155d10>"
      ]
     },
     "execution_count": 24,
     "metadata": {},
     "output_type": "execute_result"
    },
    {
     "data": {
      "image/png": "[encoded data removed]",
      "text/plain": [
       "<matplotlib.figure.Figure at 0x7f83c3dd89d0>"
      ]
     },
     "metadata": {},
     "output_type": "display_data"
    }
   ],
   "source": [
    "image = np.full((768, 1024, 3), 255, dtype=np.uint8)\n",
    "jittered_bbx = create_jittered_bbx(bbx, 0.6)\n",
    "print \"jittered_bbx =\", jittered_bbx\n",
    "cv2.rectangle(image, tuple(bbx[:2].astype(np.float32)), tuple(bbx[2:].astype(np.float32)), (0, 255, 0), 2)\n",
    "cv2.rectangle(image, tuple(jittered_bbx[:2].astype(np.float32)), tuple(jittered_bbx[2:].astype(np.float32)), (255, 0, 0), 2)\n",
    "plt.imshow(image)"
   ]
  },
  {
   "cell_type": "code",
   "execution_count": 26,
   "metadata": {
    "collapsed": false
   },
   "outputs": [
    {
     "data": {
      "image/png": "[encoded data removed]",
      "text/plain": [
       "<matplotlib.figure.Figure at 0x7f83c3cc03d0>"
      ]
     },
     "metadata": {},
     "output_type": "display_data"
    }
   ],
   "source": [
    "ious = []\n",
    "for _ in xrange(1000):\n",
    "    jittered_bbx = create_jittered_bbx(bbx, 0.5)\n",
    "    ious.append(bbx_iou_overlap(bbx, jittered_bbx))\n",
    "    \n",
    "n, bins, patches = plt.hist(ious, 50, normed=1, facecolor='green', alpha=0.75)\n",
    "plt.show()"
   ]
  },
  {
   "cell_type": "code",
   "execution_count": null,
   "metadata": {
    "collapsed": true
   },
   "outputs": [],
   "source": []
  },
  {
   "cell_type": "code",
   "execution_count": null,
   "metadata": {
    "collapsed": true
   },
   "outputs": [],
   "source": []
  }
 ],
 "metadata": {
  "kernelspec": {
   "display_name": "Python 2",
   "language": "python",
   "name": "python2"
  },
  "language_info": {
   "codemirror_mode": {
    "name": "ipython",
    "version": 2
   },
   "file_extension": ".py",
   "mimetype": "text/x-python",
   "name": "python",
   "nbconvert_exporter": "python",
   "pygments_lexer": "ipython2",
   "version": "2.7.12"
  }
 },
 "nbformat": 4,
 "nbformat_minor": 2
}
