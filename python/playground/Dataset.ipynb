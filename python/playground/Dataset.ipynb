{
 "cells": [
  {
   "cell_type": "code",
   "execution_count": 23,
   "metadata": {
    "collapsed": false
   },
   "outputs": [],
   "source": [
    "import _init_paths\n",
    "from RenderAndCompare.datasets import Dataset, NoIndent\n",
    "import numpy as np"
   ]
  },
  {
   "cell_type": "code",
   "execution_count": 24,
   "metadata": {
    "collapsed": true
   },
   "outputs": [],
   "source": [
    "dataset_file = \"/home/abhijit/Workspace/RenderAndCompare/build/kitti_trainval.json\"\n",
    "dataset = Dataset.from_json(dataset_file)"
   ]
  },
  {
   "cell_type": "code",
   "execution_count": 25,
   "metadata": {
    "collapsed": false
   },
   "outputs": [
    {
     "name": "stdout",
     "output_type": "stream",
     "text": [
      "Dataset(name=\"kitti_trainval\", with 6551 annotations)\n"
     ]
    }
   ],
   "source": [
    "print dataset"
   ]
  },
  {
   "cell_type": "code",
   "execution_count": 26,
   "metadata": {
    "collapsed": false
   },
   "outputs": [
    {
     "data": {
      "text/plain": [
       "OrderedDict([(u'category', u'Car'),\n",
       "             (u'dimension', [3.96, 1.61, 1.63]),\n",
       "             (u'bbx_visible', [895.35, 158.55, 1241.0, 374.0]),\n",
       "             (u'bbx_amodal',\n",
       "              [896.299658, 157.891347, 1242.387246, 403.249492]),\n",
       "             (u'viewpoint', [-2.863569, 0.087065, -0.01244]),\n",
       "             (u'center_proj', [1086.679237, 250.887265]),\n",
       "             (u'center_dist', 8.066478)])"
      ]
     },
     "execution_count": 26,
     "metadata": {},
     "output_type": "execute_result"
    }
   ],
   "source": [
    "obj = dataset.annotations()[32]['objects'][1]\n",
    "obj"
   ]
  },
  {
   "cell_type": "code",
   "execution_count": 27,
   "metadata": {
    "collapsed": false
   },
   "outputs": [
    {
     "data": {
      "text/plain": [
       "[895.35, 158.55, 1241.0, 374.0]"
      ]
     },
     "execution_count": 27,
     "metadata": {},
     "output_type": "execute_result"
    }
   ],
   "source": [
    "obj['bbx_visible']"
   ]
  },
  {
   "cell_type": "code",
   "execution_count": 31,
   "metadata": {
    "collapsed": false
   },
   "outputs": [
    {
     "name": "stdout",
     "output_type": "stream",
     "text": [
      "float64\n",
      "[  895.35   158.55  1241.     374.  ]\n"
     ]
    }
   ],
   "source": [
    "bbx_visible = np.array(obj['bbx_visible'])\n",
    "print bbx_visible.dtype\n",
    "print bbx_visible"
   ]
  },
  {
   "cell_type": "code",
   "execution_count": 30,
   "metadata": {
    "collapsed": false
   },
   "outputs": [
    {
     "name": "stdout",
     "output_type": "stream",
     "text": [
      "float32\n",
      "[  895.34997559   158.55000305  1241.           374.        ]\n"
     ]
    }
   ],
   "source": [
    "print bbx_visible.astype(np.float32).dtype\n",
    "print bbx_visible.astype(np.float32)"
   ]
  },
  {
   "cell_type": "code",
   "execution_count": null,
   "metadata": {
    "collapsed": true
   },
   "outputs": [],
   "source": []
  }
 ],
 "metadata": {
  "kernelspec": {
   "display_name": "Python 2",
   "language": "python",
   "name": "python2"
  },
  "language_info": {
   "codemirror_mode": {
    "name": "ipython",
    "version": 2
   },
   "file_extension": ".py",
   "mimetype": "text/x-python",
   "name": "python",
   "nbconvert_exporter": "python",
   "pygments_lexer": "ipython2",
   "version": "2.7.12"
  }
 },
 "nbformat": 4,
 "nbformat_minor": 2
}
