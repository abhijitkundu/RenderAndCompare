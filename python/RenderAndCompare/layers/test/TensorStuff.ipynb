{
 "cells": [
  {
   "cell_type": "code",
   "execution_count": 1,
   "metadata": {
    "collapsed": true,
    "deletable": true,
    "editable": true
   },
   "outputs": [],
   "source": [
    "import _init_paths\n",
    "import caffe\n",
    "import numpy as np\n",
    "import os.path as osp"
   ]
  },
  {
   "cell_type": "code",
   "execution_count": 2,
   "metadata": {
    "collapsed": true
   },
   "outputs": [],
   "source": [
    "caffe.set_random_seed(13397)\n",
    "np.random.seed(0)"
   ]
  },
  {
   "cell_type": "code",
   "execution_count": null,
   "metadata": {
    "collapsed": false,
    "deletable": true,
    "editable": true
   },
   "outputs": [],
   "source": [
    "net = caffe.Net('TensorStuff.prototxt', caffe.TEST)\n",
    "print(\"blobs {}\\nparams {}\".format(net.blobs.keys(), net.params.keys()))"
   ]
  },
  {
   "cell_type": "code",
   "execution_count": null,
   "metadata": {
    "collapsed": true
   },
   "outputs": [],
   "source": [
    "N = net.blobs['input_data'].num\n",
    "assert net.blobs['gt_viewpoint'].data.shape == (N, 3)"
   ]
  },
  {
   "cell_type": "code",
   "execution_count": null,
   "metadata": {
    "collapsed": false
   },
   "outputs": [],
   "source": [
    "net.blobs['input_data'].data[...] = np.random.rand(*net.blobs['input_data'].data.shape)\n",
    "net.blobs['gt_viewpoint'].data[...] = np.random.uniform(-np.pi, np.pi, (N, 3))\n",
    "net.params['scale_fc_viewpoint_3x2'][0].data[...] = np.array([1., 2, 3])"
   ]
  },
  {
   "cell_type": "code",
   "execution_count": null,
   "metadata": {
    "collapsed": false
   },
   "outputs": [],
   "source": [
    "print net.params['scale_fc_viewpoint_3x2'][0].data"
   ]
  },
  {
   "cell_type": "code",
   "execution_count": null,
   "metadata": {
    "collapsed": false
   },
   "outputs": [],
   "source": [
    "out = net.forward()"
   ]
  },
  {
   "cell_type": "code",
   "execution_count": null,
   "metadata": {
    "collapsed": false
   },
   "outputs": [],
   "source": [
    "print net.blobs['fc_viewpoint_6'].data.shape\n",
    "print net.blobs['fc_viewpoint_3x2'].data.shape\n",
    "print net.blobs['fc_viewpoint_3x2_by_T'].data.shape"
   ]
  },
  {
   "cell_type": "code",
   "execution_count": null,
   "metadata": {
    "collapsed": false
   },
   "outputs": [],
   "source": [
    "assert np.allclose(net.blobs['fc_viewpoint_6'].data.reshape(4, 3, 2), net.blobs['fc_viewpoint_3x2'].data)"
   ]
  },
  {
   "cell_type": "code",
   "execution_count": null,
   "metadata": {
    "collapsed": false
   },
   "outputs": [],
   "source": [
    "print net.params['fc_viewpoint_6'][0].data.shape\n",
    "print net.params['fc_viewpoint_6'][1].data.shape"
   ]
  },
  {
   "cell_type": "code",
   "execution_count": null,
   "metadata": {
    "collapsed": false
   },
   "outputs": [],
   "source": [
    "print net.params['fc_viewpoint_6'][0].data.mean(), np.std(net.params['fc_viewpoint_6'][0].data)\n",
    "print net.params['fc_viewpoint_6'][1].data.mean(), np.std(net.params['fc_viewpoint_6'][1].data)"
   ]
  },
  {
   "cell_type": "code",
   "execution_count": null,
   "metadata": {
    "collapsed": false
   },
   "outputs": [],
   "source": [
    "assert np.allclose(net.blobs['fc_viewpoint_3x2'].data * np.array([1., 2, 3]).reshape(1, 3, 1), net.blobs['fc_viewpoint_3x2_by_T'].data)"
   ]
  },
  {
   "cell_type": "code",
   "execution_count": null,
   "metadata": {
    "collapsed": false
   },
   "outputs": [],
   "source": [
    "out"
   ]
  },
  {
   "cell_type": "code",
   "execution_count": null,
   "metadata": {
    "collapsed": false
   },
   "outputs": [],
   "source": [
    "print np.sum(net.blobs['prob_viewpoint_3x2_by_T'].data, axis=2)"
   ]
  },
  {
   "cell_type": "code",
   "execution_count": null,
   "metadata": {
    "collapsed": true
   },
   "outputs": [],
   "source": []
  }
 ],
 "metadata": {
  "kernelspec": {
   "display_name": "Python 2",
   "language": "python",
   "name": "python2"
  },
  "language_info": {
   "codemirror_mode": {
    "name": "ipython",
    "version": 2
   },
   "file_extension": ".py",
   "mimetype": "text/x-python",
   "name": "python",
   "nbconvert_exporter": "python",
   "pygments_lexer": "ipython2",
   "version": "2.7.12"
  }
 },
 "nbformat": 4,
 "nbformat_minor": 2
}
